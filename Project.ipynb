{
 "cells": [
  {
   "cell_type": "markdown",
   "metadata": {},
   "source": [
    "# Project: GAPminder World\n",
    "\n",
    "## Table of Contents\n",
    "<ul>\n",
    "<li><a href=\"#intro\">Introduction</a></li>\n",
    "<li><a href=\"#wrangling\">Data Wrangling</a></li>\n",
    "<li><a href=\"#eda\">Exploratory Data Analysis</a></li>\n",
    "<li><a href=\"#conclusions\">Conclusions</a></li>\n",
    "</ul>"
   ]
  },
  {
   "cell_type": "markdown",
   "metadata": {},
   "source": [
    "<a id='intro'></a>\n",
    "## Introduction\n",
    "\n",
    ">  Gapminder identifies systematic misconceptions about important global trends and proportions and uses reliable data to develop easy to understand teaching materials to rid people of their misconceptions.\n",
    "Gapminder is an independent Swedish foundation with no political, religious, or economic affiliations.\n",
    "\n",
    "\n",
    "> #### Questions to be answered:\n",
    "\n",
    "> what is the correlation between Population and GDP per capita?\n",
    "\n",
    "> What is the correlation between life expectancy, GDP and Population?"
   ]
  },
  {
   "cell_type": "code",
   "execution_count": 1,
   "metadata": {},
   "outputs": [],
   "source": [
    "# Use this cell to set up import statements for all of the packages that you\n",
    "#   plan to use.\n",
    "import pandas as pd\n",
    "import numpy as np\n",
    "import matplotlib.pyplot as plt\n",
    "import seaborn as sns\n",
    "%matplotlib inline\n",
    "from functools import reduce\n",
    "# Remember to include a 'magic word' so that your visualizations are plotted\n",
    "#   inline with the notebook. See this page for more:\n",
    "#   http://ipython.readthedocs.io/en/stable/interactive/magics.html"
   ]
  },
  {
   "cell_type": "markdown",
   "metadata": {},
   "source": [
    "<a id='wrangling'></a>\n",
    "## Data Wrangling\n",
    "\n",
    "\n",
    "### General Properties\n"
   ]
  },
  {
   "cell_type": "markdown",
   "metadata": {
    "jupyter": {
     "outputs_hidden": true
    }
   },
   "source": [
    "### Gathering Data\n",
    "#### create Dataframes and read csv files"
   ]
  },
  {
   "cell_type": "code",
   "execution_count": 2,
   "metadata": {},
   "outputs": [],
   "source": [
    "# Load your data and print out a few lines. Perform operations to inspect data\n",
    "#   types and look for instances of missing or possibly errant data.\n",
    "pop = pd.read_csv('population_total.csv')\n",
    "gdp_cap = pd.read_csv('income_per_person_gdppercapita_ppp_inflation_adjusted.csv')\n",
    "life_exp = pd.read_csv('life_expectancy_years.csv')"
   ]
  },
  {
   "cell_type": "markdown",
   "metadata": {},
   "source": [
    "### Assess Data"
   ]
  },
  {
   "cell_type": "code",
   "execution_count": 3,
   "metadata": {},
   "outputs": [
    {
     "data": {
      "text/html": [
       "<div>\n",
       "<style scoped>\n",
       "    .dataframe tbody tr th:only-of-type {\n",
       "        vertical-align: middle;\n",
       "    }\n",
       "\n",
       "    .dataframe tbody tr th {\n",
       "        vertical-align: top;\n",
       "    }\n",
       "\n",
       "    .dataframe thead th {\n",
       "        text-align: right;\n",
       "    }\n",
       "</style>\n",
       "<table border=\"1\" class=\"dataframe\">\n",
       "  <thead>\n",
       "    <tr style=\"text-align: right;\">\n",
       "      <th></th>\n",
       "      <th>country</th>\n",
       "      <th>1800</th>\n",
       "      <th>1801</th>\n",
       "      <th>1802</th>\n",
       "      <th>1803</th>\n",
       "      <th>1804</th>\n",
       "      <th>1805</th>\n",
       "      <th>1806</th>\n",
       "      <th>1807</th>\n",
       "      <th>1808</th>\n",
       "      <th>...</th>\n",
       "      <th>2091</th>\n",
       "      <th>2092</th>\n",
       "      <th>2093</th>\n",
       "      <th>2094</th>\n",
       "      <th>2095</th>\n",
       "      <th>2096</th>\n",
       "      <th>2097</th>\n",
       "      <th>2098</th>\n",
       "      <th>2099</th>\n",
       "      <th>2100</th>\n",
       "    </tr>\n",
       "  </thead>\n",
       "  <tbody>\n",
       "    <tr>\n",
       "      <th>0</th>\n",
       "      <td>Afghanistan</td>\n",
       "      <td>3280000</td>\n",
       "      <td>3280000</td>\n",
       "      <td>3280000</td>\n",
       "      <td>3280000</td>\n",
       "      <td>3280000</td>\n",
       "      <td>3280000</td>\n",
       "      <td>3280000</td>\n",
       "      <td>3280000</td>\n",
       "      <td>3280000</td>\n",
       "      <td>...</td>\n",
       "      <td>76600000</td>\n",
       "      <td>76400000</td>\n",
       "      <td>76300000</td>\n",
       "      <td>76100000</td>\n",
       "      <td>76000000</td>\n",
       "      <td>75800000</td>\n",
       "      <td>75600000</td>\n",
       "      <td>75400000</td>\n",
       "      <td>75200000</td>\n",
       "      <td>74900000</td>\n",
       "    </tr>\n",
       "    <tr>\n",
       "      <th>1</th>\n",
       "      <td>Albania</td>\n",
       "      <td>400000</td>\n",
       "      <td>402000</td>\n",
       "      <td>404000</td>\n",
       "      <td>405000</td>\n",
       "      <td>407000</td>\n",
       "      <td>409000</td>\n",
       "      <td>411000</td>\n",
       "      <td>413000</td>\n",
       "      <td>414000</td>\n",
       "      <td>...</td>\n",
       "      <td>1330000</td>\n",
       "      <td>1300000</td>\n",
       "      <td>1270000</td>\n",
       "      <td>1250000</td>\n",
       "      <td>1220000</td>\n",
       "      <td>1190000</td>\n",
       "      <td>1170000</td>\n",
       "      <td>1140000</td>\n",
       "      <td>1110000</td>\n",
       "      <td>1090000</td>\n",
       "    </tr>\n",
       "  </tbody>\n",
       "</table>\n",
       "<p>2 rows × 302 columns</p>\n",
       "</div>"
      ],
      "text/plain": [
       "       country     1800     1801     1802     1803     1804     1805     1806  \\\n",
       "0  Afghanistan  3280000  3280000  3280000  3280000  3280000  3280000  3280000   \n",
       "1      Albania   400000   402000   404000   405000   407000   409000   411000   \n",
       "\n",
       "      1807     1808  ...      2091      2092      2093      2094      2095  \\\n",
       "0  3280000  3280000  ...  76600000  76400000  76300000  76100000  76000000   \n",
       "1   413000   414000  ...   1330000   1300000   1270000   1250000   1220000   \n",
       "\n",
       "       2096      2097      2098      2099      2100  \n",
       "0  75800000  75600000  75400000  75200000  74900000  \n",
       "1   1190000   1170000   1140000   1110000   1090000  \n",
       "\n",
       "[2 rows x 302 columns]"
      ]
     },
     "execution_count": 3,
     "metadata": {},
     "output_type": "execute_result"
    }
   ],
   "source": [
    "# check samples of data\n",
    "pop.head(2)"
   ]
  },
  {
   "cell_type": "markdown",
   "metadata": {},
   "source": [
    "DF contains info of countries around the world with population from 1800 to 2100"
   ]
  },
  {
   "cell_type": "code",
   "execution_count": 4,
   "metadata": {},
   "outputs": [
    {
     "data": {
      "text/html": [
       "<div>\n",
       "<style scoped>\n",
       "    .dataframe tbody tr th:only-of-type {\n",
       "        vertical-align: middle;\n",
       "    }\n",
       "\n",
       "    .dataframe tbody tr th {\n",
       "        vertical-align: top;\n",
       "    }\n",
       "\n",
       "    .dataframe thead th {\n",
       "        text-align: right;\n",
       "    }\n",
       "</style>\n",
       "<table border=\"1\" class=\"dataframe\">\n",
       "  <thead>\n",
       "    <tr style=\"text-align: right;\">\n",
       "      <th></th>\n",
       "      <th>country</th>\n",
       "      <th>1800</th>\n",
       "      <th>1801</th>\n",
       "      <th>1802</th>\n",
       "      <th>1803</th>\n",
       "      <th>1804</th>\n",
       "      <th>1805</th>\n",
       "      <th>1806</th>\n",
       "      <th>1807</th>\n",
       "      <th>1808</th>\n",
       "      <th>...</th>\n",
       "      <th>2031</th>\n",
       "      <th>2032</th>\n",
       "      <th>2033</th>\n",
       "      <th>2034</th>\n",
       "      <th>2035</th>\n",
       "      <th>2036</th>\n",
       "      <th>2037</th>\n",
       "      <th>2038</th>\n",
       "      <th>2039</th>\n",
       "      <th>2040</th>\n",
       "    </tr>\n",
       "  </thead>\n",
       "  <tbody>\n",
       "    <tr>\n",
       "      <th>0</th>\n",
       "      <td>Afghanistan</td>\n",
       "      <td>603</td>\n",
       "      <td>603</td>\n",
       "      <td>603</td>\n",
       "      <td>603</td>\n",
       "      <td>603</td>\n",
       "      <td>603</td>\n",
       "      <td>603</td>\n",
       "      <td>603</td>\n",
       "      <td>603</td>\n",
       "      <td>...</td>\n",
       "      <td>2550</td>\n",
       "      <td>2600</td>\n",
       "      <td>2660</td>\n",
       "      <td>2710</td>\n",
       "      <td>2770</td>\n",
       "      <td>2820</td>\n",
       "      <td>2880</td>\n",
       "      <td>2940</td>\n",
       "      <td>3000</td>\n",
       "      <td>3060</td>\n",
       "    </tr>\n",
       "    <tr>\n",
       "      <th>1</th>\n",
       "      <td>Albania</td>\n",
       "      <td>667</td>\n",
       "      <td>667</td>\n",
       "      <td>667</td>\n",
       "      <td>667</td>\n",
       "      <td>667</td>\n",
       "      <td>668</td>\n",
       "      <td>668</td>\n",
       "      <td>668</td>\n",
       "      <td>668</td>\n",
       "      <td>...</td>\n",
       "      <td>19400</td>\n",
       "      <td>19800</td>\n",
       "      <td>20200</td>\n",
       "      <td>20600</td>\n",
       "      <td>21000</td>\n",
       "      <td>21500</td>\n",
       "      <td>21900</td>\n",
       "      <td>22300</td>\n",
       "      <td>22800</td>\n",
       "      <td>23300</td>\n",
       "    </tr>\n",
       "  </tbody>\n",
       "</table>\n",
       "<p>2 rows × 242 columns</p>\n",
       "</div>"
      ],
      "text/plain": [
       "       country  1800  1801  1802  1803  1804  1805  1806  1807  1808  ...  \\\n",
       "0  Afghanistan   603   603   603   603   603   603   603   603   603  ...   \n",
       "1      Albania   667   667   667   667   667   668   668   668   668  ...   \n",
       "\n",
       "    2031   2032   2033   2034   2035   2036   2037   2038   2039   2040  \n",
       "0   2550   2600   2660   2710   2770   2820   2880   2940   3000   3060  \n",
       "1  19400  19800  20200  20600  21000  21500  21900  22300  22800  23300  \n",
       "\n",
       "[2 rows x 242 columns]"
      ]
     },
     "execution_count": 4,
     "metadata": {},
     "output_type": "execute_result"
    }
   ],
   "source": [
    "# check samples of data\n",
    "gdp_cap.head(2)"
   ]
  },
  {
   "cell_type": "markdown",
   "metadata": {},
   "source": [
    "DF contains info of countries around the world with population from 1800 to 2100"
   ]
  },
  {
   "cell_type": "code",
   "execution_count": 5,
   "metadata": {},
   "outputs": [
    {
     "data": {
      "text/html": [
       "<div>\n",
       "<style scoped>\n",
       "    .dataframe tbody tr th:only-of-type {\n",
       "        vertical-align: middle;\n",
       "    }\n",
       "\n",
       "    .dataframe tbody tr th {\n",
       "        vertical-align: top;\n",
       "    }\n",
       "\n",
       "    .dataframe thead th {\n",
       "        text-align: right;\n",
       "    }\n",
       "</style>\n",
       "<table border=\"1\" class=\"dataframe\">\n",
       "  <thead>\n",
       "    <tr style=\"text-align: right;\">\n",
       "      <th></th>\n",
       "      <th>country</th>\n",
       "      <th>1800</th>\n",
       "      <th>1801</th>\n",
       "      <th>1802</th>\n",
       "      <th>1803</th>\n",
       "      <th>1804</th>\n",
       "      <th>1805</th>\n",
       "      <th>1806</th>\n",
       "      <th>1807</th>\n",
       "      <th>1808</th>\n",
       "      <th>...</th>\n",
       "      <th>2091</th>\n",
       "      <th>2092</th>\n",
       "      <th>2093</th>\n",
       "      <th>2094</th>\n",
       "      <th>2095</th>\n",
       "      <th>2096</th>\n",
       "      <th>2097</th>\n",
       "      <th>2098</th>\n",
       "      <th>2099</th>\n",
       "      <th>2100</th>\n",
       "    </tr>\n",
       "  </thead>\n",
       "  <tbody>\n",
       "    <tr>\n",
       "      <th>0</th>\n",
       "      <td>Afghanistan</td>\n",
       "      <td>28.2</td>\n",
       "      <td>28.2</td>\n",
       "      <td>28.2</td>\n",
       "      <td>28.2</td>\n",
       "      <td>28.2</td>\n",
       "      <td>28.2</td>\n",
       "      <td>28.1</td>\n",
       "      <td>28.1</td>\n",
       "      <td>28.1</td>\n",
       "      <td>...</td>\n",
       "      <td>76.5</td>\n",
       "      <td>76.6</td>\n",
       "      <td>76.7</td>\n",
       "      <td>76.9</td>\n",
       "      <td>77.0</td>\n",
       "      <td>77.1</td>\n",
       "      <td>77.3</td>\n",
       "      <td>77.4</td>\n",
       "      <td>77.5</td>\n",
       "      <td>77.7</td>\n",
       "    </tr>\n",
       "    <tr>\n",
       "      <th>1</th>\n",
       "      <td>Albania</td>\n",
       "      <td>35.4</td>\n",
       "      <td>35.4</td>\n",
       "      <td>35.4</td>\n",
       "      <td>35.4</td>\n",
       "      <td>35.4</td>\n",
       "      <td>35.4</td>\n",
       "      <td>35.4</td>\n",
       "      <td>35.4</td>\n",
       "      <td>35.4</td>\n",
       "      <td>...</td>\n",
       "      <td>87.4</td>\n",
       "      <td>87.5</td>\n",
       "      <td>87.6</td>\n",
       "      <td>87.7</td>\n",
       "      <td>87.8</td>\n",
       "      <td>87.9</td>\n",
       "      <td>88.0</td>\n",
       "      <td>88.1</td>\n",
       "      <td>88.2</td>\n",
       "      <td>88.3</td>\n",
       "    </tr>\n",
       "  </tbody>\n",
       "</table>\n",
       "<p>2 rows × 302 columns</p>\n",
       "</div>"
      ],
      "text/plain": [
       "       country  1800  1801  1802  1803  1804  1805  1806  1807  1808  ...  \\\n",
       "0  Afghanistan  28.2  28.2  28.2  28.2  28.2  28.2  28.1  28.1  28.1  ...   \n",
       "1      Albania  35.4  35.4  35.4  35.4  35.4  35.4  35.4  35.4  35.4  ...   \n",
       "\n",
       "   2091  2092  2093  2094  2095  2096  2097  2098  2099  2100  \n",
       "0  76.5  76.6  76.7  76.9  77.0  77.1  77.3  77.4  77.5  77.7  \n",
       "1  87.4  87.5  87.6  87.7  87.8  87.9  88.0  88.1  88.2  88.3  \n",
       "\n",
       "[2 rows x 302 columns]"
      ]
     },
     "execution_count": 5,
     "metadata": {},
     "output_type": "execute_result"
    }
   ],
   "source": [
    "# check samples of data\n",
    "life_exp.head(2)"
   ]
  },
  {
   "cell_type": "markdown",
   "metadata": {},
   "source": [
    "DF contains info of countries around the world with population from 1800 to 2100"
   ]
  },
  {
   "cell_type": "markdown",
   "metadata": {},
   "source": [
    "\n",
    "### Data Cleaning"
   ]
  },
  {
   "cell_type": "markdown",
   "metadata": {},
   "source": [
    "#### Quality and Tidines Issues:\n",
    "    * Data have blank values need to be removed\n",
    "    * Data have duplicates need to be handled\n",
    "    * need to add each contient/ region for each countries to help in the visualization\n",
    "    * need to gather different indicators in one master data frame to help in analysis\n",
    "    * data have a lot of years and we only need to compare few years"
   ]
  },
  {
   "cell_type": "markdown",
   "metadata": {},
   "source": [
    "#### Define"
   ]
  },
  {
   "cell_type": "markdown",
   "metadata": {},
   "source": [
    "#### drop the null cells"
   ]
  },
  {
   "cell_type": "markdown",
   "metadata": {},
   "source": [
    "#### Code"
   ]
  },
  {
   "cell_type": "code",
   "execution_count": 6,
   "metadata": {},
   "outputs": [],
   "source": [
    "def blank(df):\n",
    "    if pd.isna(df).sum().sum():\n",
    "        return df.dropna(axis=0)\n",
    "    return df"
   ]
  },
  {
   "cell_type": "code",
   "execution_count": 7,
   "metadata": {},
   "outputs": [],
   "source": [
    "life_exp = blank(life_exp)\n",
    "pop = blank(pop)\n",
    "gdp_cap = blank(gdp_cap)"
   ]
  },
  {
   "cell_type": "markdown",
   "metadata": {},
   "source": [
    "#### Test"
   ]
  },
  {
   "cell_type": "code",
   "execution_count": 8,
   "metadata": {},
   "outputs": [
    {
     "data": {
      "text/plain": [
       "0"
      ]
     },
     "execution_count": 8,
     "metadata": {},
     "output_type": "execute_result"
    }
   ],
   "source": [
    "pd.isna(life_exp).sum().sum()"
   ]
  },
  {
   "cell_type": "code",
   "execution_count": 9,
   "metadata": {},
   "outputs": [
    {
     "data": {
      "text/plain": [
       "0"
      ]
     },
     "execution_count": 9,
     "metadata": {},
     "output_type": "execute_result"
    }
   ],
   "source": [
    "pd.isna(pop).sum().sum()"
   ]
  },
  {
   "cell_type": "code",
   "execution_count": 10,
   "metadata": {},
   "outputs": [
    {
     "data": {
      "text/plain": [
       "0"
      ]
     },
     "execution_count": 10,
     "metadata": {},
     "output_type": "execute_result"
    }
   ],
   "source": [
    "pd.isna(gdp_cap).sum().sum()"
   ]
  },
  {
   "cell_type": "markdown",
   "metadata": {},
   "source": [
    "#### Define"
   ]
  },
  {
   "cell_type": "markdown",
   "metadata": {},
   "source": [
    "##### merge all dataframes to a master DF"
   ]
  },
  {
   "cell_type": "markdown",
   "metadata": {},
   "source": [
    "#### Code"
   ]
  },
  {
   "cell_type": "code",
   "execution_count": 11,
   "metadata": {},
   "outputs": [],
   "source": [
    "# Merge all the dataframes to a master DF\n",
    "master_df = [pop, life_exp, gdp_cap]"
   ]
  },
  {
   "cell_type": "code",
   "execution_count": 12,
   "metadata": {},
   "outputs": [
    {
     "data": {
      "text/html": [
       "<div>\n",
       "<style scoped>\n",
       "    .dataframe tbody tr th:only-of-type {\n",
       "        vertical-align: middle;\n",
       "    }\n",
       "\n",
       "    .dataframe tbody tr th {\n",
       "        vertical-align: top;\n",
       "    }\n",
       "\n",
       "    .dataframe thead th {\n",
       "        text-align: right;\n",
       "    }\n",
       "</style>\n",
       "<table border=\"1\" class=\"dataframe\">\n",
       "  <thead>\n",
       "    <tr style=\"text-align: right;\">\n",
       "      <th></th>\n",
       "      <th>country</th>\n",
       "      <th>1800_x</th>\n",
       "      <th>1801_x</th>\n",
       "      <th>1802_x</th>\n",
       "      <th>1803_x</th>\n",
       "      <th>1804_x</th>\n",
       "      <th>1805_x</th>\n",
       "      <th>1806_x</th>\n",
       "      <th>1807_x</th>\n",
       "      <th>1808_x</th>\n",
       "      <th>...</th>\n",
       "      <th>2031</th>\n",
       "      <th>2032</th>\n",
       "      <th>2033</th>\n",
       "      <th>2034</th>\n",
       "      <th>2035</th>\n",
       "      <th>2036</th>\n",
       "      <th>2037</th>\n",
       "      <th>2038</th>\n",
       "      <th>2039</th>\n",
       "      <th>2040</th>\n",
       "    </tr>\n",
       "  </thead>\n",
       "  <tbody>\n",
       "    <tr>\n",
       "      <th>0</th>\n",
       "      <td>Afghanistan</td>\n",
       "      <td>3280000</td>\n",
       "      <td>3280000</td>\n",
       "      <td>3280000</td>\n",
       "      <td>3280000</td>\n",
       "      <td>3280000</td>\n",
       "      <td>3280000</td>\n",
       "      <td>3280000</td>\n",
       "      <td>3280000</td>\n",
       "      <td>3280000</td>\n",
       "      <td>...</td>\n",
       "      <td>2550</td>\n",
       "      <td>2600</td>\n",
       "      <td>2660</td>\n",
       "      <td>2710</td>\n",
       "      <td>2770</td>\n",
       "      <td>2820</td>\n",
       "      <td>2880</td>\n",
       "      <td>2940</td>\n",
       "      <td>3000</td>\n",
       "      <td>3060</td>\n",
       "    </tr>\n",
       "    <tr>\n",
       "      <th>1</th>\n",
       "      <td>Albania</td>\n",
       "      <td>400000</td>\n",
       "      <td>402000</td>\n",
       "      <td>404000</td>\n",
       "      <td>405000</td>\n",
       "      <td>407000</td>\n",
       "      <td>409000</td>\n",
       "      <td>411000</td>\n",
       "      <td>413000</td>\n",
       "      <td>414000</td>\n",
       "      <td>...</td>\n",
       "      <td>19400</td>\n",
       "      <td>19800</td>\n",
       "      <td>20200</td>\n",
       "      <td>20600</td>\n",
       "      <td>21000</td>\n",
       "      <td>21500</td>\n",
       "      <td>21900</td>\n",
       "      <td>22300</td>\n",
       "      <td>22800</td>\n",
       "      <td>23300</td>\n",
       "    </tr>\n",
       "    <tr>\n",
       "      <th>2</th>\n",
       "      <td>Algeria</td>\n",
       "      <td>2500000</td>\n",
       "      <td>2510000</td>\n",
       "      <td>2520000</td>\n",
       "      <td>2530000</td>\n",
       "      <td>2540000</td>\n",
       "      <td>2550000</td>\n",
       "      <td>2560000</td>\n",
       "      <td>2560000</td>\n",
       "      <td>2570000</td>\n",
       "      <td>...</td>\n",
       "      <td>14300</td>\n",
       "      <td>14600</td>\n",
       "      <td>14900</td>\n",
       "      <td>15200</td>\n",
       "      <td>15500</td>\n",
       "      <td>15800</td>\n",
       "      <td>16100</td>\n",
       "      <td>16500</td>\n",
       "      <td>16800</td>\n",
       "      <td>17100</td>\n",
       "    </tr>\n",
       "    <tr>\n",
       "      <th>3</th>\n",
       "      <td>Angola</td>\n",
       "      <td>1570000</td>\n",
       "      <td>1570000</td>\n",
       "      <td>1570000</td>\n",
       "      <td>1570000</td>\n",
       "      <td>1570000</td>\n",
       "      <td>1570000</td>\n",
       "      <td>1570000</td>\n",
       "      <td>1570000</td>\n",
       "      <td>1570000</td>\n",
       "      <td>...</td>\n",
       "      <td>6110</td>\n",
       "      <td>6230</td>\n",
       "      <td>6350</td>\n",
       "      <td>6480</td>\n",
       "      <td>6610</td>\n",
       "      <td>6750</td>\n",
       "      <td>6880</td>\n",
       "      <td>7020</td>\n",
       "      <td>7170</td>\n",
       "      <td>7310</td>\n",
       "    </tr>\n",
       "    <tr>\n",
       "      <th>4</th>\n",
       "      <td>Antigua and Barbuda</td>\n",
       "      <td>37000</td>\n",
       "      <td>37000</td>\n",
       "      <td>37000</td>\n",
       "      <td>37000</td>\n",
       "      <td>37000</td>\n",
       "      <td>37000</td>\n",
       "      <td>37000</td>\n",
       "      <td>37000</td>\n",
       "      <td>37000</td>\n",
       "      <td>...</td>\n",
       "      <td>28800</td>\n",
       "      <td>29400</td>\n",
       "      <td>30000</td>\n",
       "      <td>30600</td>\n",
       "      <td>31200</td>\n",
       "      <td>31800</td>\n",
       "      <td>32500</td>\n",
       "      <td>33100</td>\n",
       "      <td>33800</td>\n",
       "      <td>34500</td>\n",
       "    </tr>\n",
       "  </tbody>\n",
       "</table>\n",
       "<p>5 rows × 844 columns</p>\n",
       "</div>"
      ],
      "text/plain": [
       "               country   1800_x   1801_x   1802_x   1803_x   1804_x   1805_x  \\\n",
       "0          Afghanistan  3280000  3280000  3280000  3280000  3280000  3280000   \n",
       "1              Albania   400000   402000   404000   405000   407000   409000   \n",
       "2              Algeria  2500000  2510000  2520000  2530000  2540000  2550000   \n",
       "3               Angola  1570000  1570000  1570000  1570000  1570000  1570000   \n",
       "4  Antigua and Barbuda    37000    37000    37000    37000    37000    37000   \n",
       "\n",
       "    1806_x   1807_x   1808_x  ...   2031   2032   2033   2034   2035   2036  \\\n",
       "0  3280000  3280000  3280000  ...   2550   2600   2660   2710   2770   2820   \n",
       "1   411000   413000   414000  ...  19400  19800  20200  20600  21000  21500   \n",
       "2  2560000  2560000  2570000  ...  14300  14600  14900  15200  15500  15800   \n",
       "3  1570000  1570000  1570000  ...   6110   6230   6350   6480   6610   6750   \n",
       "4    37000    37000    37000  ...  28800  29400  30000  30600  31200  31800   \n",
       "\n",
       "    2037   2038   2039   2040  \n",
       "0   2880   2940   3000   3060  \n",
       "1  21900  22300  22800  23300  \n",
       "2  16100  16500  16800  17100  \n",
       "3   6880   7020   7170   7310  \n",
       "4  32500  33100  33800  34500  \n",
       "\n",
       "[5 rows x 844 columns]"
      ]
     },
     "execution_count": 12,
     "metadata": {},
     "output_type": "execute_result"
    }
   ],
   "source": [
    "gapminder = reduce(lambda left, right: pd.merge(left, right, on='country'), master_df)\n",
    "gapminder.head()"
   ]
  },
  {
   "cell_type": "markdown",
   "metadata": {},
   "source": [
    "Dataframes added in 1 master data frame but it have repeated years for each indicator need to be handled"
   ]
  },
  {
   "cell_type": "markdown",
   "metadata": {},
   "source": [
    "#### Test"
   ]
  },
  {
   "cell_type": "code",
   "execution_count": 13,
   "metadata": {},
   "outputs": [
    {
     "data": {
      "text/plain": [
       "0"
      ]
     },
     "execution_count": 13,
     "metadata": {},
     "output_type": "execute_result"
    }
   ],
   "source": [
    "pd.isna(gapminder).sum().sum()"
   ]
  },
  {
   "cell_type": "markdown",
   "metadata": {},
   "source": [
    "#### Define"
   ]
  },
  {
   "cell_type": "markdown",
   "metadata": {},
   "source": [
    "##### adding countries regions to the data frame\n",
    "slice 2 years data from the dataframes"
   ]
  },
  {
   "cell_type": "markdown",
   "metadata": {},
   "source": [
    "#### Code"
   ]
  },
  {
   "cell_type": "markdown",
   "metadata": {},
   "source": [
    "adding countries df"
   ]
  },
  {
   "cell_type": "code",
   "execution_count": 14,
   "metadata": {},
   "outputs": [
    {
     "data": {
      "text/html": [
       "<div>\n",
       "<style scoped>\n",
       "    .dataframe tbody tr th:only-of-type {\n",
       "        vertical-align: middle;\n",
       "    }\n",
       "\n",
       "    .dataframe tbody tr th {\n",
       "        vertical-align: top;\n",
       "    }\n",
       "\n",
       "    .dataframe thead th {\n",
       "        text-align: right;\n",
       "    }\n",
       "</style>\n",
       "<table border=\"1\" class=\"dataframe\">\n",
       "  <thead>\n",
       "    <tr style=\"text-align: right;\">\n",
       "      <th></th>\n",
       "      <th>name</th>\n",
       "      <th>region</th>\n",
       "    </tr>\n",
       "  </thead>\n",
       "  <tbody>\n",
       "    <tr>\n",
       "      <th>0</th>\n",
       "      <td>Afghanistan</td>\n",
       "      <td>Asia</td>\n",
       "    </tr>\n",
       "    <tr>\n",
       "      <th>1</th>\n",
       "      <td>Åland Islands</td>\n",
       "      <td>Europe</td>\n",
       "    </tr>\n",
       "    <tr>\n",
       "      <th>2</th>\n",
       "      <td>Albania</td>\n",
       "      <td>Europe</td>\n",
       "    </tr>\n",
       "    <tr>\n",
       "      <th>3</th>\n",
       "      <td>Algeria</td>\n",
       "      <td>Africa</td>\n",
       "    </tr>\n",
       "    <tr>\n",
       "      <th>4</th>\n",
       "      <td>American Samoa</td>\n",
       "      <td>Oceania</td>\n",
       "    </tr>\n",
       "  </tbody>\n",
       "</table>\n",
       "</div>"
      ],
      "text/plain": [
       "             name   region\n",
       "0     Afghanistan     Asia\n",
       "1   Åland Islands   Europe\n",
       "2         Albania   Europe\n",
       "3         Algeria   Africa\n",
       "4  American Samoa  Oceania"
      ]
     },
     "execution_count": 14,
     "metadata": {},
     "output_type": "execute_result"
    }
   ],
   "source": [
    "countries = pd.read_csv('countries.csv')\n",
    "countries = countries.loc[:, ['name', 'region']]\n",
    "countries.head()"
   ]
  },
  {
   "cell_type": "markdown",
   "metadata": {},
   "source": [
    "add regions of the countries to the main data frame"
   ]
  },
  {
   "cell_type": "code",
   "execution_count": 15,
   "metadata": {},
   "outputs": [
    {
     "data": {
      "text/html": [
       "<div>\n",
       "<style scoped>\n",
       "    .dataframe tbody tr th:only-of-type {\n",
       "        vertical-align: middle;\n",
       "    }\n",
       "\n",
       "    .dataframe tbody tr th {\n",
       "        vertical-align: top;\n",
       "    }\n",
       "\n",
       "    .dataframe thead th {\n",
       "        text-align: right;\n",
       "    }\n",
       "</style>\n",
       "<table border=\"1\" class=\"dataframe\">\n",
       "  <thead>\n",
       "    <tr style=\"text-align: right;\">\n",
       "      <th></th>\n",
       "      <th>country</th>\n",
       "      <th>1800_x</th>\n",
       "      <th>1801_x</th>\n",
       "      <th>1802_x</th>\n",
       "      <th>1803_x</th>\n",
       "      <th>1804_x</th>\n",
       "      <th>1805_x</th>\n",
       "      <th>1806_x</th>\n",
       "      <th>1807_x</th>\n",
       "      <th>1808_x</th>\n",
       "      <th>...</th>\n",
       "      <th>2032</th>\n",
       "      <th>2033</th>\n",
       "      <th>2034</th>\n",
       "      <th>2035</th>\n",
       "      <th>2036</th>\n",
       "      <th>2037</th>\n",
       "      <th>2038</th>\n",
       "      <th>2039</th>\n",
       "      <th>2040</th>\n",
       "      <th>region</th>\n",
       "    </tr>\n",
       "  </thead>\n",
       "  <tbody>\n",
       "    <tr>\n",
       "      <th>0</th>\n",
       "      <td>Afghanistan</td>\n",
       "      <td>3280000</td>\n",
       "      <td>3280000</td>\n",
       "      <td>3280000</td>\n",
       "      <td>3280000</td>\n",
       "      <td>3280000</td>\n",
       "      <td>3280000</td>\n",
       "      <td>3280000</td>\n",
       "      <td>3280000</td>\n",
       "      <td>3280000</td>\n",
       "      <td>...</td>\n",
       "      <td>2600</td>\n",
       "      <td>2660</td>\n",
       "      <td>2710</td>\n",
       "      <td>2770</td>\n",
       "      <td>2820</td>\n",
       "      <td>2880</td>\n",
       "      <td>2940</td>\n",
       "      <td>3000</td>\n",
       "      <td>3060</td>\n",
       "      <td>Asia</td>\n",
       "    </tr>\n",
       "    <tr>\n",
       "      <th>1</th>\n",
       "      <td>Albania</td>\n",
       "      <td>400000</td>\n",
       "      <td>402000</td>\n",
       "      <td>404000</td>\n",
       "      <td>405000</td>\n",
       "      <td>407000</td>\n",
       "      <td>409000</td>\n",
       "      <td>411000</td>\n",
       "      <td>413000</td>\n",
       "      <td>414000</td>\n",
       "      <td>...</td>\n",
       "      <td>19800</td>\n",
       "      <td>20200</td>\n",
       "      <td>20600</td>\n",
       "      <td>21000</td>\n",
       "      <td>21500</td>\n",
       "      <td>21900</td>\n",
       "      <td>22300</td>\n",
       "      <td>22800</td>\n",
       "      <td>23300</td>\n",
       "      <td>Europe</td>\n",
       "    </tr>\n",
       "    <tr>\n",
       "      <th>2</th>\n",
       "      <td>Algeria</td>\n",
       "      <td>2500000</td>\n",
       "      <td>2510000</td>\n",
       "      <td>2520000</td>\n",
       "      <td>2530000</td>\n",
       "      <td>2540000</td>\n",
       "      <td>2550000</td>\n",
       "      <td>2560000</td>\n",
       "      <td>2560000</td>\n",
       "      <td>2570000</td>\n",
       "      <td>...</td>\n",
       "      <td>14600</td>\n",
       "      <td>14900</td>\n",
       "      <td>15200</td>\n",
       "      <td>15500</td>\n",
       "      <td>15800</td>\n",
       "      <td>16100</td>\n",
       "      <td>16500</td>\n",
       "      <td>16800</td>\n",
       "      <td>17100</td>\n",
       "      <td>Africa</td>\n",
       "    </tr>\n",
       "    <tr>\n",
       "      <th>3</th>\n",
       "      <td>Angola</td>\n",
       "      <td>1570000</td>\n",
       "      <td>1570000</td>\n",
       "      <td>1570000</td>\n",
       "      <td>1570000</td>\n",
       "      <td>1570000</td>\n",
       "      <td>1570000</td>\n",
       "      <td>1570000</td>\n",
       "      <td>1570000</td>\n",
       "      <td>1570000</td>\n",
       "      <td>...</td>\n",
       "      <td>6230</td>\n",
       "      <td>6350</td>\n",
       "      <td>6480</td>\n",
       "      <td>6610</td>\n",
       "      <td>6750</td>\n",
       "      <td>6880</td>\n",
       "      <td>7020</td>\n",
       "      <td>7170</td>\n",
       "      <td>7310</td>\n",
       "      <td>Africa</td>\n",
       "    </tr>\n",
       "    <tr>\n",
       "      <th>4</th>\n",
       "      <td>Antigua and Barbuda</td>\n",
       "      <td>37000</td>\n",
       "      <td>37000</td>\n",
       "      <td>37000</td>\n",
       "      <td>37000</td>\n",
       "      <td>37000</td>\n",
       "      <td>37000</td>\n",
       "      <td>37000</td>\n",
       "      <td>37000</td>\n",
       "      <td>37000</td>\n",
       "      <td>...</td>\n",
       "      <td>29400</td>\n",
       "      <td>30000</td>\n",
       "      <td>30600</td>\n",
       "      <td>31200</td>\n",
       "      <td>31800</td>\n",
       "      <td>32500</td>\n",
       "      <td>33100</td>\n",
       "      <td>33800</td>\n",
       "      <td>34500</td>\n",
       "      <td>Americas</td>\n",
       "    </tr>\n",
       "  </tbody>\n",
       "</table>\n",
       "<p>5 rows × 845 columns</p>\n",
       "</div>"
      ],
      "text/plain": [
       "               country   1800_x   1801_x   1802_x   1803_x   1804_x   1805_x  \\\n",
       "0          Afghanistan  3280000  3280000  3280000  3280000  3280000  3280000   \n",
       "1              Albania   400000   402000   404000   405000   407000   409000   \n",
       "2              Algeria  2500000  2510000  2520000  2530000  2540000  2550000   \n",
       "3               Angola  1570000  1570000  1570000  1570000  1570000  1570000   \n",
       "4  Antigua and Barbuda    37000    37000    37000    37000    37000    37000   \n",
       "\n",
       "    1806_x   1807_x   1808_x  ...   2032   2033   2034   2035   2036   2037  \\\n",
       "0  3280000  3280000  3280000  ...   2600   2660   2710   2770   2820   2880   \n",
       "1   411000   413000   414000  ...  19800  20200  20600  21000  21500  21900   \n",
       "2  2560000  2560000  2570000  ...  14600  14900  15200  15500  15800  16100   \n",
       "3  1570000  1570000  1570000  ...   6230   6350   6480   6610   6750   6880   \n",
       "4    37000    37000    37000  ...  29400  30000  30600  31200  31800  32500   \n",
       "\n",
       "    2038   2039   2040    region  \n",
       "0   2940   3000   3060      Asia  \n",
       "1  22300  22800  23300    Europe  \n",
       "2  16500  16800  17100    Africa  \n",
       "3   7020   7170   7310    Africa  \n",
       "4  33100  33800  34500  Americas  \n",
       "\n",
       "[5 rows x 845 columns]"
      ]
     },
     "execution_count": 15,
     "metadata": {},
     "output_type": "execute_result"
    }
   ],
   "source": [
    "gapminder = pd.merge(gapminder, countries, how='inner', left_on='country', right_on='name').drop('name', axis=1)\n",
    "gapminder.head()"
   ]
  },
  {
   "cell_type": "code",
   "execution_count": 16,
   "metadata": {},
   "outputs": [],
   "source": [
    "# slice from the dataframe 2 years : 2020 and 1920 to compare between them\n",
    "df_1920 = gapminder.filter(regex='1920|country|region')\n",
    "df_2020 = gapminder.filter(regex='2020|country|region')\n",
    "df_1920.columns = df_2020.columns = ['country', 'population', 'life_expectancy', 'gdp_per_capita', 'region']"
   ]
  },
  {
   "cell_type": "markdown",
   "metadata": {},
   "source": [
    "#### Test"
   ]
  },
  {
   "cell_type": "code",
   "execution_count": 17,
   "metadata": {},
   "outputs": [
    {
     "data": {
      "text/html": [
       "<div>\n",
       "<style scoped>\n",
       "    .dataframe tbody tr th:only-of-type {\n",
       "        vertical-align: middle;\n",
       "    }\n",
       "\n",
       "    .dataframe tbody tr th {\n",
       "        vertical-align: top;\n",
       "    }\n",
       "\n",
       "    .dataframe thead th {\n",
       "        text-align: right;\n",
       "    }\n",
       "</style>\n",
       "<table border=\"1\" class=\"dataframe\">\n",
       "  <thead>\n",
       "    <tr style=\"text-align: right;\">\n",
       "      <th></th>\n",
       "      <th>country</th>\n",
       "      <th>population</th>\n",
       "      <th>life_expectancy</th>\n",
       "      <th>gdp_per_capita</th>\n",
       "      <th>region</th>\n",
       "    </tr>\n",
       "  </thead>\n",
       "  <tbody>\n",
       "    <tr>\n",
       "      <th>0</th>\n",
       "      <td>Afghanistan</td>\n",
       "      <td>10600000</td>\n",
       "      <td>30.6</td>\n",
       "      <td>1490</td>\n",
       "      <td>Asia</td>\n",
       "    </tr>\n",
       "    <tr>\n",
       "      <th>1</th>\n",
       "      <td>Albania</td>\n",
       "      <td>949000</td>\n",
       "      <td>35.4</td>\n",
       "      <td>1530</td>\n",
       "      <td>Europe</td>\n",
       "    </tr>\n",
       "    <tr>\n",
       "      <th>2</th>\n",
       "      <td>Algeria</td>\n",
       "      <td>5750000</td>\n",
       "      <td>29.6</td>\n",
       "      <td>2360</td>\n",
       "      <td>Africa</td>\n",
       "    </tr>\n",
       "    <tr>\n",
       "      <th>3</th>\n",
       "      <td>Angola</td>\n",
       "      <td>2880000</td>\n",
       "      <td>30.4</td>\n",
       "      <td>1250</td>\n",
       "      <td>Africa</td>\n",
       "    </tr>\n",
       "    <tr>\n",
       "      <th>4</th>\n",
       "      <td>Antigua and Barbuda</td>\n",
       "      <td>29800</td>\n",
       "      <td>33.9</td>\n",
       "      <td>1680</td>\n",
       "      <td>Americas</td>\n",
       "    </tr>\n",
       "  </tbody>\n",
       "</table>\n",
       "</div>"
      ],
      "text/plain": [
       "               country  population  life_expectancy  gdp_per_capita    region\n",
       "0          Afghanistan    10600000             30.6            1490      Asia\n",
       "1              Albania      949000             35.4            1530    Europe\n",
       "2              Algeria     5750000             29.6            2360    Africa\n",
       "3               Angola     2880000             30.4            1250    Africa\n",
       "4  Antigua and Barbuda       29800             33.9            1680  Americas"
      ]
     },
     "execution_count": 17,
     "metadata": {},
     "output_type": "execute_result"
    }
   ],
   "source": [
    "df_1920.head()"
   ]
  },
  {
   "cell_type": "code",
   "execution_count": 18,
   "metadata": {},
   "outputs": [
    {
     "data": {
      "text/html": [
       "<div>\n",
       "<style scoped>\n",
       "    .dataframe tbody tr th:only-of-type {\n",
       "        vertical-align: middle;\n",
       "    }\n",
       "\n",
       "    .dataframe tbody tr th {\n",
       "        vertical-align: top;\n",
       "    }\n",
       "\n",
       "    .dataframe thead th {\n",
       "        text-align: right;\n",
       "    }\n",
       "</style>\n",
       "<table border=\"1\" class=\"dataframe\">\n",
       "  <thead>\n",
       "    <tr style=\"text-align: right;\">\n",
       "      <th></th>\n",
       "      <th>country</th>\n",
       "      <th>population</th>\n",
       "      <th>life_expectancy</th>\n",
       "      <th>gdp_per_capita</th>\n",
       "      <th>region</th>\n",
       "    </tr>\n",
       "  </thead>\n",
       "  <tbody>\n",
       "    <tr>\n",
       "      <th>0</th>\n",
       "      <td>Afghanistan</td>\n",
       "      <td>38900000</td>\n",
       "      <td>64.4</td>\n",
       "      <td>1800</td>\n",
       "      <td>Asia</td>\n",
       "    </tr>\n",
       "    <tr>\n",
       "      <th>1</th>\n",
       "      <td>Albania</td>\n",
       "      <td>2880000</td>\n",
       "      <td>78.6</td>\n",
       "      <td>13200</td>\n",
       "      <td>Europe</td>\n",
       "    </tr>\n",
       "    <tr>\n",
       "      <th>2</th>\n",
       "      <td>Algeria</td>\n",
       "      <td>43900000</td>\n",
       "      <td>78.3</td>\n",
       "      <td>14000</td>\n",
       "      <td>Africa</td>\n",
       "    </tr>\n",
       "    <tr>\n",
       "      <th>3</th>\n",
       "      <td>Angola</td>\n",
       "      <td>32900000</td>\n",
       "      <td>65.4</td>\n",
       "      <td>5440</td>\n",
       "      <td>Africa</td>\n",
       "    </tr>\n",
       "    <tr>\n",
       "      <th>4</th>\n",
       "      <td>Antigua and Barbuda</td>\n",
       "      <td>97900</td>\n",
       "      <td>77.4</td>\n",
       "      <td>25000</td>\n",
       "      <td>Americas</td>\n",
       "    </tr>\n",
       "  </tbody>\n",
       "</table>\n",
       "</div>"
      ],
      "text/plain": [
       "               country  population  life_expectancy  gdp_per_capita    region\n",
       "0          Afghanistan    38900000             64.4            1800      Asia\n",
       "1              Albania     2880000             78.6           13200    Europe\n",
       "2              Algeria    43900000             78.3           14000    Africa\n",
       "3               Angola    32900000             65.4            5440    Africa\n",
       "4  Antigua and Barbuda       97900             77.4           25000  Americas"
      ]
     },
     "execution_count": 18,
     "metadata": {},
     "output_type": "execute_result"
    }
   ],
   "source": [
    "df_2020.head()"
   ]
  },
  {
   "cell_type": "markdown",
   "metadata": {},
   "source": [
    " change the population column by dividing by 1 million to make it easier in data analysis"
   ]
  },
  {
   "cell_type": "code",
   "execution_count": null,
   "metadata": {},
   "outputs": [],
   "source": [
    "df_1920['population'] = df_1920[\"population\"] / 1000000\n",
    "df_2020['population'] = df_2020['population'] / 1000000"
   ]
  },
  {
   "cell_type": "code",
   "execution_count": 20,
   "metadata": {},
   "outputs": [
    {
     "data": {
      "text/html": [
       "<div>\n",
       "<style scoped>\n",
       "    .dataframe tbody tr th:only-of-type {\n",
       "        vertical-align: middle;\n",
       "    }\n",
       "\n",
       "    .dataframe tbody tr th {\n",
       "        vertical-align: top;\n",
       "    }\n",
       "\n",
       "    .dataframe thead th {\n",
       "        text-align: right;\n",
       "    }\n",
       "</style>\n",
       "<table border=\"1\" class=\"dataframe\">\n",
       "  <thead>\n",
       "    <tr style=\"text-align: right;\">\n",
       "      <th></th>\n",
       "      <th>country</th>\n",
       "      <th>population</th>\n",
       "      <th>life_expectancy</th>\n",
       "      <th>gdp_per_capita</th>\n",
       "      <th>region</th>\n",
       "    </tr>\n",
       "  </thead>\n",
       "  <tbody>\n",
       "    <tr>\n",
       "      <th>0</th>\n",
       "      <td>Afghanistan</td>\n",
       "      <td>10.6000</td>\n",
       "      <td>30.6</td>\n",
       "      <td>1490</td>\n",
       "      <td>Asia</td>\n",
       "    </tr>\n",
       "    <tr>\n",
       "      <th>1</th>\n",
       "      <td>Albania</td>\n",
       "      <td>0.9490</td>\n",
       "      <td>35.4</td>\n",
       "      <td>1530</td>\n",
       "      <td>Europe</td>\n",
       "    </tr>\n",
       "    <tr>\n",
       "      <th>2</th>\n",
       "      <td>Algeria</td>\n",
       "      <td>5.7500</td>\n",
       "      <td>29.6</td>\n",
       "      <td>2360</td>\n",
       "      <td>Africa</td>\n",
       "    </tr>\n",
       "    <tr>\n",
       "      <th>3</th>\n",
       "      <td>Angola</td>\n",
       "      <td>2.8800</td>\n",
       "      <td>30.4</td>\n",
       "      <td>1250</td>\n",
       "      <td>Africa</td>\n",
       "    </tr>\n",
       "    <tr>\n",
       "      <th>4</th>\n",
       "      <td>Antigua and Barbuda</td>\n",
       "      <td>0.0298</td>\n",
       "      <td>33.9</td>\n",
       "      <td>1680</td>\n",
       "      <td>Americas</td>\n",
       "    </tr>\n",
       "  </tbody>\n",
       "</table>\n",
       "</div>"
      ],
      "text/plain": [
       "               country  population  life_expectancy  gdp_per_capita    region\n",
       "0          Afghanistan     10.6000             30.6            1490      Asia\n",
       "1              Albania      0.9490             35.4            1530    Europe\n",
       "2              Algeria      5.7500             29.6            2360    Africa\n",
       "3               Angola      2.8800             30.4            1250    Africa\n",
       "4  Antigua and Barbuda      0.0298             33.9            1680  Americas"
      ]
     },
     "execution_count": 20,
     "metadata": {},
     "output_type": "execute_result"
    }
   ],
   "source": [
    "df_1920.head()"
   ]
  },
  {
   "cell_type": "code",
   "execution_count": 21,
   "metadata": {},
   "outputs": [
    {
     "name": "stdout",
     "output_type": "stream",
     "text": [
      "<class 'pandas.core.frame.DataFrame'>\n",
      "Int64Index: 159 entries, 0 to 158\n",
      "Data columns (total 5 columns):\n",
      " #   Column           Non-Null Count  Dtype  \n",
      "---  ------           --------------  -----  \n",
      " 0   country          159 non-null    object \n",
      " 1   population       159 non-null    float64\n",
      " 2   life_expectancy  159 non-null    float64\n",
      " 3   gdp_per_capita   159 non-null    int64  \n",
      " 4   region           159 non-null    object \n",
      "dtypes: float64(2), int64(1), object(2)\n",
      "memory usage: 7.5+ KB\n"
     ]
    }
   ],
   "source": [
    "df_2020.info()"
   ]
  },
  {
   "cell_type": "code",
   "execution_count": 22,
   "metadata": {},
   "outputs": [
    {
     "data": {
      "text/html": [
       "<div>\n",
       "<style scoped>\n",
       "    .dataframe tbody tr th:only-of-type {\n",
       "        vertical-align: middle;\n",
       "    }\n",
       "\n",
       "    .dataframe tbody tr th {\n",
       "        vertical-align: top;\n",
       "    }\n",
       "\n",
       "    .dataframe thead th {\n",
       "        text-align: right;\n",
       "    }\n",
       "</style>\n",
       "<table border=\"1\" class=\"dataframe\">\n",
       "  <thead>\n",
       "    <tr style=\"text-align: right;\">\n",
       "      <th></th>\n",
       "      <th>country</th>\n",
       "      <th>population</th>\n",
       "      <th>life_expectancy</th>\n",
       "      <th>gdp_per_capita</th>\n",
       "      <th>region</th>\n",
       "    </tr>\n",
       "  </thead>\n",
       "  <tbody>\n",
       "    <tr>\n",
       "      <th>0</th>\n",
       "      <td>Afghanistan</td>\n",
       "      <td>38.9000</td>\n",
       "      <td>64.4</td>\n",
       "      <td>1800</td>\n",
       "      <td>Asia</td>\n",
       "    </tr>\n",
       "    <tr>\n",
       "      <th>1</th>\n",
       "      <td>Albania</td>\n",
       "      <td>2.8800</td>\n",
       "      <td>78.6</td>\n",
       "      <td>13200</td>\n",
       "      <td>Europe</td>\n",
       "    </tr>\n",
       "    <tr>\n",
       "      <th>2</th>\n",
       "      <td>Algeria</td>\n",
       "      <td>43.9000</td>\n",
       "      <td>78.3</td>\n",
       "      <td>14000</td>\n",
       "      <td>Africa</td>\n",
       "    </tr>\n",
       "    <tr>\n",
       "      <th>3</th>\n",
       "      <td>Angola</td>\n",
       "      <td>32.9000</td>\n",
       "      <td>65.4</td>\n",
       "      <td>5440</td>\n",
       "      <td>Africa</td>\n",
       "    </tr>\n",
       "    <tr>\n",
       "      <th>4</th>\n",
       "      <td>Antigua and Barbuda</td>\n",
       "      <td>0.0979</td>\n",
       "      <td>77.4</td>\n",
       "      <td>25000</td>\n",
       "      <td>Americas</td>\n",
       "    </tr>\n",
       "  </tbody>\n",
       "</table>\n",
       "</div>"
      ],
      "text/plain": [
       "               country  population  life_expectancy  gdp_per_capita    region\n",
       "0          Afghanistan     38.9000             64.4            1800      Asia\n",
       "1              Albania      2.8800             78.6           13200    Europe\n",
       "2              Algeria     43.9000             78.3           14000    Africa\n",
       "3               Angola     32.9000             65.4            5440    Africa\n",
       "4  Antigua and Barbuda      0.0979             77.4           25000  Americas"
      ]
     },
     "execution_count": 22,
     "metadata": {},
     "output_type": "execute_result"
    }
   ],
   "source": [
    "df_2020.head()"
   ]
  },
  {
   "cell_type": "code",
   "execution_count": 23,
   "metadata": {},
   "outputs": [
    {
     "data": {
      "text/html": [
       "<div>\n",
       "<style scoped>\n",
       "    .dataframe tbody tr th:only-of-type {\n",
       "        vertical-align: middle;\n",
       "    }\n",
       "\n",
       "    .dataframe tbody tr th {\n",
       "        vertical-align: top;\n",
       "    }\n",
       "\n",
       "    .dataframe thead th {\n",
       "        text-align: right;\n",
       "    }\n",
       "</style>\n",
       "<table border=\"1\" class=\"dataframe\">\n",
       "  <thead>\n",
       "    <tr style=\"text-align: right;\">\n",
       "      <th></th>\n",
       "      <th>country</th>\n",
       "      <th>population</th>\n",
       "      <th>life_expectancy</th>\n",
       "      <th>gdp_per_capita</th>\n",
       "      <th>region</th>\n",
       "    </tr>\n",
       "  </thead>\n",
       "  <tbody>\n",
       "    <tr>\n",
       "      <th>0</th>\n",
       "      <td>Afghanistan</td>\n",
       "      <td>10.6000</td>\n",
       "      <td>30.6</td>\n",
       "      <td>1490</td>\n",
       "      <td>Asia</td>\n",
       "    </tr>\n",
       "    <tr>\n",
       "      <th>1</th>\n",
       "      <td>Albania</td>\n",
       "      <td>0.9490</td>\n",
       "      <td>35.4</td>\n",
       "      <td>1530</td>\n",
       "      <td>Europe</td>\n",
       "    </tr>\n",
       "    <tr>\n",
       "      <th>2</th>\n",
       "      <td>Algeria</td>\n",
       "      <td>5.7500</td>\n",
       "      <td>29.6</td>\n",
       "      <td>2360</td>\n",
       "      <td>Africa</td>\n",
       "    </tr>\n",
       "    <tr>\n",
       "      <th>3</th>\n",
       "      <td>Angola</td>\n",
       "      <td>2.8800</td>\n",
       "      <td>30.4</td>\n",
       "      <td>1250</td>\n",
       "      <td>Africa</td>\n",
       "    </tr>\n",
       "    <tr>\n",
       "      <th>4</th>\n",
       "      <td>Antigua and Barbuda</td>\n",
       "      <td>0.0298</td>\n",
       "      <td>33.9</td>\n",
       "      <td>1680</td>\n",
       "      <td>Americas</td>\n",
       "    </tr>\n",
       "  </tbody>\n",
       "</table>\n",
       "</div>"
      ],
      "text/plain": [
       "               country  population  life_expectancy  gdp_per_capita    region\n",
       "0          Afghanistan     10.6000             30.6            1490      Asia\n",
       "1              Albania      0.9490             35.4            1530    Europe\n",
       "2              Algeria      5.7500             29.6            2360    Africa\n",
       "3               Angola      2.8800             30.4            1250    Africa\n",
       "4  Antigua and Barbuda      0.0298             33.9            1680  Americas"
      ]
     },
     "execution_count": 23,
     "metadata": {},
     "output_type": "execute_result"
    }
   ],
   "source": [
    "df_1920.head()"
   ]
  },
  {
   "cell_type": "code",
   "execution_count": 24,
   "metadata": {},
   "outputs": [],
   "source": [
    "# save the 2 df to csv files for future use\n",
    "df_1920.to_csv('1920.csv')\n",
    "df_2020.to_csv('2020.csv')"
   ]
  },
  {
   "cell_type": "markdown",
   "metadata": {},
   "source": [
    "<a id='eda'></a>\n",
    "## Exploratory Data Analysis\n",
    "\n",
    "> **Tip**: Now that you've trimmed and cleaned your data, you're ready to move on to exploration. Compute statistics and create visualizations with the goal of addressing the research questions that you posed in the Introduction section. It is recommended that you be systematic with your approach. Look at one variable at a time, and then follow it up by looking at relationships between variables.\n",
    "\n",
    "### what is the correlation between Population and GDP per capita?\n"
   ]
  },
  {
   "cell_type": "code",
   "execution_count": 25,
   "metadata": {},
   "outputs": [
    {
     "name": "stderr",
     "output_type": "stream",
     "text": [
      "/Users/heshamkhalil/opt/anaconda3/lib/python3.8/site-packages/pandas/plotting/_matplotlib/tools.py:331: MatplotlibDeprecationWarning: \n",
      "The is_first_col function was deprecated in Matplotlib 3.4 and will be removed two minor releases later. Use ax.get_subplotspec().is_first_col() instead.\n",
      "  if ax.is_first_col():\n"
     ]
    },
    {
     "data": {
      "image/png": "[encoded data removed]",
      "text/plain": [
       "<Figure size 720x576 with 4 Axes>"
      ]
     },
     "metadata": {
      "needs_background": "light"
     },
     "output_type": "display_data"
    }
   ],
   "source": [
    "#exploring 1920 data by visualization\n",
    "df_1920.hist(figsize=(10, 8))\n",
    "plt.show()"
   ]
  },
  {
   "cell_type": "markdown",
   "metadata": {},
   "source": [
    "Showing distrbutions of the data for each indicator in 1920"
   ]
  },
  {
   "cell_type": "code",
   "execution_count": 26,
   "metadata": {},
   "outputs": [
    {
     "data": {
      "image/png": "[encoded data removed]",
      "text/plain": [
       "<Figure size 720x576 with 4 Axes>"
      ]
     },
     "metadata": {
      "needs_background": "light"
     },
     "output_type": "display_data"
    }
   ],
   "source": [
    "#exploring 2020 data by visualization\n",
    "df_2020.hist(figsize=(10, 8))\n",
    "plt.show()"
   ]
  },
  {
   "cell_type": "markdown",
   "metadata": {},
   "source": [
    "Showing distrbutions of the data for each indicator in 2020"
   ]
  },
  {
   "cell_type": "code",
   "execution_count": 27,
   "metadata": {},
   "outputs": [
    {
     "data": {
      "image/png": "[encoded data removed]",
      "text/plain": [
       "<Figure size 432x288 with 1 Axes>"
      ]
     },
     "metadata": {
      "needs_background": "light"
     },
     "output_type": "display_data"
    },
    {
     "data": {
      "image/png": "[encoded data removed]",
      "text/plain": [
       "<Figure size 432x288 with 1 Axes>"
      ]
     },
     "metadata": {
      "needs_background": "light"
     },
     "output_type": "display_data"
    },
    {
     "data": {
      "image/png": "[encoded data removed]",
      "text/plain": [
       "<Figure size 432x288 with 1 Axes>"
      ]
     },
     "metadata": {
      "needs_background": "light"
     },
     "output_type": "display_data"
    },
    {
     "data": {
      "image/png": "[encoded data removed]",
      "text/plain": [
       "<Figure size 432x288 with 1 Axes>"
      ]
     },
     "metadata": {
      "needs_background": "light"
     },
     "output_type": "display_data"
    },
    {
     "data": {
      "image/png": "[encoded data removed]",
      "text/plain": [
       "<Figure size 432x288 with 1 Axes>"
      ]
     },
     "metadata": {
      "needs_background": "light"
     },
     "output_type": "display_data"
    }
   ],
   "source": [
    "# ploting 3 indicators with grouping by the region\n",
    "df_1920.groupby('region').plot(kind='hist', alpha= 0.5)\n",
    "plt.show()"
   ]
  },
  {
   "cell_type": "markdown",
   "metadata": {},
   "source": [
    "Showing distrbutions of the data for each indicator and comparing them with each others for year 1920"
   ]
  },
  {
   "cell_type": "code",
   "execution_count": 28,
   "metadata": {},
   "outputs": [
    {
     "data": {
      "image/png": "[encoded data removed]",
      "text/plain": [
       "<Figure size 432x288 with 1 Axes>"
      ]
     },
     "metadata": {
      "needs_background": "light"
     },
     "output_type": "display_data"
    },
    {
     "data": {
      "image/png": "[encoded data removed]",
      "text/plain": [
       "<Figure size 432x288 with 1 Axes>"
      ]
     },
     "metadata": {
      "needs_background": "light"
     },
     "output_type": "display_data"
    },
    {
     "data": {
      "image/png": "[encoded data removed]",
      "text/plain": [
       "<Figure size 432x288 with 1 Axes>"
      ]
     },
     "metadata": {
      "needs_background": "light"
     },
     "output_type": "display_data"
    },
    {
     "data": {
      "image/png": "[encoded data removed]",
      "text/plain": [
       "<Figure size 432x288 with 1 Axes>"
      ]
     },
     "metadata": {
      "needs_background": "light"
     },
     "output_type": "display_data"
    },
    {
     "data": {
      "image/png": "[encoded data removed]",
      "text/plain": [
       "<Figure size 432x288 with 1 Axes>"
      ]
     },
     "metadata": {
      "needs_background": "light"
     },
     "output_type": "display_data"
    }
   ],
   "source": [
    "df_2020.groupby('region').plot(kind='hist', alpha= 0.5)\n",
    "plt.show()"
   ]
  },
  {
   "cell_type": "markdown",
   "metadata": {},
   "source": [
    "Showing distrbutions of the data for each indicator and comparing them with each others for year"
   ]
  },
  {
   "cell_type": "code",
   "execution_count": 29,
   "metadata": {},
   "outputs": [],
   "source": [
    "# create function to make histogram for different data between 1920 and 2020\n",
    "def hist_df(name, plot_title):\n",
    "    plt.hist(df_1920[name], bins=20, alpha=0.5, label='1920')\n",
    "    plt.hist(df_2020[name], bins=20, alpha=0.5, label='2020')\n",
    "    plt.title(plot_title)\n",
    "    plt.xlabel(name)\n",
    "    plt.ylabel('Frequency')\n",
    "    plt.legend(loc='upper right')\n",
    "    plt.show()"
   ]
  },
  {
   "cell_type": "code",
   "execution_count": 30,
   "metadata": {},
   "outputs": [
    {
     "data": {
      "image/png": "[encoded data removed]",
      "text/plain": [
       "<Figure size 432x288 with 1 Axes>"
      ]
     },
     "metadata": {
      "needs_background": "light"
     },
     "output_type": "display_data"
    }
   ],
   "source": [
    "hist_df('gdp_per_capita', 'GDP Per Capita')"
   ]
  },
  {
   "cell_type": "markdown",
   "metadata": {},
   "source": [
    "comparing the distrbution for data of 1920 and 2020 as per the GDP per Capita\n",
    "\n",
    "it showing that its right skewed for both 2020 and 1920"
   ]
  },
  {
   "cell_type": "code",
   "execution_count": 31,
   "metadata": {},
   "outputs": [
    {
     "data": {
      "image/png": "[encoded data removed]",
      "text/plain": [
       "<Figure size 432x288 with 1 Axes>"
      ]
     },
     "metadata": {
      "needs_background": "light"
     },
     "output_type": "display_data"
    }
   ],
   "source": [
    "hist_df('life_expectancy', 'life_expectancy')"
   ]
  },
  {
   "cell_type": "markdown",
   "metadata": {},
   "source": [
    "comparing the distrbution for data of 1920 and 2020 as per the  life expectancy\n",
    "\n",
    "showing that its normal distrbution for the 1920 and it changed to be left skewed for 2020 which reflect the difference happen in life expectancy throughout the years"
   ]
  },
  {
   "cell_type": "code",
   "execution_count": 32,
   "metadata": {},
   "outputs": [
    {
     "data": {
      "image/png": "[encoded data removed]",
      "text/plain": [
       "<Figure size 432x288 with 1 Axes>"
      ]
     },
     "metadata": {
      "needs_background": "light"
     },
     "output_type": "display_data"
    }
   ],
   "source": [
    "hist_df('population', 'population in million')"
   ]
  },
  {
   "cell_type": "markdown",
   "metadata": {},
   "source": [
    "comparing the distrbution for data of 1920 and 2020 as per the population\n",
    "\n",
    "it showing that both years have right skewed distrbution with some outliers like 1400 mil in 2020"
   ]
  },
  {
   "cell_type": "code",
   "execution_count": 33,
   "metadata": {},
   "outputs": [
    {
     "data": {
      "image/png": "[encoded data removed]",
      "text/plain": [
       "<Figure size 432x288 with 1 Axes>"
      ]
     },
     "metadata": {
      "needs_background": "light"
     },
     "output_type": "display_data"
    }
   ],
   "source": [
    "hist_df(['population', 'life_expectancy'], 'population and life expectancy')"
   ]
  },
  {
   "cell_type": "markdown",
   "metadata": {},
   "source": [
    "comparing the distrbution for data of 1920 and 2020 as per both population and life expectancy\n",
    "\n",
    "to show relationship between them"
   ]
  },
  {
   "cell_type": "code",
   "execution_count": 34,
   "metadata": {},
   "outputs": [
    {
     "data": {
      "image/png": "[encoded data removed]",
      "text/plain": [
       "<Figure size 432x288 with 1 Axes>"
      ]
     },
     "metadata": {
      "needs_background": "light"
     },
     "output_type": "display_data"
    }
   ],
   "source": [
    "hist_df(['population', 'gdp_per_capita'], 'gdp to population')"
   ]
  },
  {
   "cell_type": "markdown",
   "metadata": {},
   "source": [
    "comparing the distrbution for data of 1920 and 2020 as per both population and GDP per capita\n",
    "which reflects correlation for gdp and population needs more analysis to get more info"
   ]
  },
  {
   "cell_type": "markdown",
   "metadata": {},
   "source": [
    "### relationship between GDP and population"
   ]
  },
  {
   "cell_type": "code",
   "execution_count": 62,
   "metadata": {},
   "outputs": [
    {
     "data": {
      "image/png": "[encoded data removed]",
      "text/plain": [
       "<Figure size 432x288 with 1 Axes>"
      ]
     },
     "metadata": {
      "needs_background": "light"
     },
     "output_type": "display_data"
    },
    {
     "data": {
      "image/png": "[encoded data removed]",
      "text/plain": [
       "<Figure size 432x288 with 1 Axes>"
      ]
     },
     "metadata": {
      "needs_background": "light"
     },
     "output_type": "display_data"
    }
   ],
   "source": [
    "# showing scatter plots to confirm the relation between GDP and population and how affect the individuals gdp\n",
    "df_1920.plot(kind='scatter',x='population',y='gdp_per_capita',color='green', title='GDP and population')\n",
    "df_2020.plot(kind='scatter',x='population',y='gdp_per_capita',color='red', title='GDP and population')\n",
    "plt.show()"
   ]
  },
  {
   "cell_type": "markdown",
   "metadata": {},
   "source": [
    "showing scatter plots to confirm the relation between GDP and population and how affect the individuals gdp"
   ]
  },
  {
   "cell_type": "markdown",
   "metadata": {},
   "source": [
    "## what is the correlation between Population and GDP per capita?\n",
    "Answer 1 :\n",
    "as showing in the scatter plot the gdp and pop changed significantly from 1920 to 2020\n",
    "that showing the relationship between the population and gdp as the more the population increasing the more decreasing happing in the gdp as the income per person become lower and lower"
   ]
  },
  {
   "cell_type": "markdown",
   "metadata": {},
   "source": [
    "### What is the correclation between life expectancy, GDP and Population?"
   ]
  },
  {
   "cell_type": "code",
   "execution_count": 36,
   "metadata": {},
   "outputs": [
    {
     "name": "stdout",
     "output_type": "stream",
     "text": [
      "       population  life_expectancy  gdp_per_capita\n",
      "count  159.000000       159.000000      159.000000\n",
      "mean    10.046044        35.181761     2191.176101\n",
      "std     45.445723         8.771869     2061.637930\n",
      "min      0.018800        15.200000      356.000000\n",
      "25%      0.401500        30.600000      900.000000\n",
      "50%      1.680000        33.100000     1540.000000\n",
      "75%      5.180000        35.950000     2700.000000\n",
      "max    472.000000        60.600000    15300.000000\n",
      "        population  life_expectancy  gdp_per_capita\n",
      "count   159.000000       159.000000      159.000000\n",
      "mean     41.971580        73.365409    18763.660377\n",
      "std     160.781535         7.030206    19843.326903\n",
      "min       0.097900        53.300000      628.000000\n",
      "25%       2.630000        68.300000     3990.000000\n",
      "50%       9.540000        74.500000    12500.000000\n",
      "75%      29.450000        78.850000    27250.000000\n",
      "max    1440.000000        85.300000   116000.000000\n"
     ]
    }
   ],
   "source": [
    "# describe info about the 2 df that help in analysis\n",
    "print(df_1920.describe())\n",
    "print(df_2020.describe())"
   ]
  },
  {
   "cell_type": "markdown",
   "metadata": {},
   "source": [
    "by using the info above \n",
    "it showing the average population increased triple from 1920 to 2020 and the average of life expectancy\n",
    "\n",
    "increased almost double but in the same time the gdp per person is increased also during the same time"
   ]
  },
  {
   "cell_type": "markdown",
   "metadata": {},
   "source": [
    "##### plotting histogram for the 3 indicators to confirm on there distrbutions for 1920"
   ]
  },
  {
   "cell_type": "code",
   "execution_count": 37,
   "metadata": {},
   "outputs": [
    {
     "name": "stderr",
     "output_type": "stream",
     "text": [
      "/Users/heshamkhalil/opt/anaconda3/lib/python3.8/site-packages/pandas/plotting/_matplotlib/tools.py:331: MatplotlibDeprecationWarning: \n",
      "The is_first_col function was deprecated in Matplotlib 3.4 and will be removed two minor releases later. Use ax.get_subplotspec().is_first_col() instead.\n",
      "  if ax.is_first_col():\n"
     ]
    },
    {
     "data": {
      "image/png": "[encoded data removed]",
      "text/plain": [
       "<Figure size 720x576 with 4 Axes>"
      ]
     },
     "metadata": {
      "needs_background": "light"
     },
     "output_type": "display_data"
    }
   ],
   "source": [
    "df_1920.hist(figsize=(10, 8))\n",
    "plt.show()"
   ]
  },
  {
   "cell_type": "markdown",
   "metadata": {},
   "source": [
    "##### plotting histogram for the 3 indicators to confirm on there distrbutions for 2020"
   ]
  },
  {
   "cell_type": "code",
   "execution_count": 38,
   "metadata": {},
   "outputs": [
    {
     "data": {
      "image/png": "[encoded data removed]",
      "text/plain": [
       "<Figure size 720x576 with 4 Axes>"
      ]
     },
     "metadata": {
      "needs_background": "light"
     },
     "output_type": "display_data"
    }
   ],
   "source": [
    "df_2020.hist(figsize=(10, 8))\n",
    "plt.show()"
   ]
  },
  {
   "cell_type": "markdown",
   "metadata": {},
   "source": [
    "\n",
    "##### __Answer 2__: \n",
    "* as showing on the above histograms the distrubition of the life expectency became more left skewed from 1920 to 2020\n",
    "* and for gdp per capita its changed slightly and the distrubition more flattered\n",
    "* for the population the skewed is changed more to right skewed\n",
    "* what we can get from it that the more the gdp is increased the more the life_expectancy is increased\n",
    "* and the more the population is increased that slightly impacting gdp per capita \n",
    "\n",
    "below visualization confirmed it\n",
    "\n"
   ]
  },
  {
   "cell_type": "markdown",
   "metadata": {},
   "source": [
    "#### Creating the DF for visualization\n",
    "reflecting changes and averages from 1920 to 2020"
   ]
  },
  {
   "cell_type": "code",
   "execution_count": 39,
   "metadata": {},
   "outputs": [],
   "source": [
    "# regions analytics\n",
    "pop_region_1920 = df_1920.groupby('region')['population'].mean()\n",
    "pop_region_2020 = df_2020.groupby('region')['population'].mean()"
   ]
  },
  {
   "cell_type": "code",
   "execution_count": 40,
   "metadata": {},
   "outputs": [
    {
     "data": {
      "text/plain": [
       "region\n",
       "Africa      20.839537\n",
       "Americas    19.798925\n",
       "Asia        83.845110\n",
       "Europe       5.787250\n",
       "Oceania      3.769689\n",
       "Name: population, dtype: float64"
      ]
     },
     "execution_count": 40,
     "metadata": {},
     "output_type": "execute_result"
    }
   ],
   "source": [
    "# changes in populations by contintents \n",
    "population_change = pop_region_2020 - pop_region_1920\n",
    "population_change"
   ]
  },
  {
   "cell_type": "code",
   "execution_count": 41,
   "metadata": {},
   "outputs": [],
   "source": [
    "life_region_1920 = df_1920.groupby('region')['life_expectancy'].mean()\n",
    "life_region_2020 = df_2020.groupby('region')['life_expectancy'].mean()"
   ]
  },
  {
   "cell_type": "code",
   "execution_count": 42,
   "metadata": {},
   "outputs": [
    {
     "data": {
      "text/plain": [
       "region\n",
       "Africa      33.836735\n",
       "Americas    41.432143\n",
       "Asia        45.164103\n",
       "Europe      34.364706\n",
       "Oceania     35.922222\n",
       "Name: life_expectancy, dtype: float64"
      ]
     },
     "execution_count": 42,
     "metadata": {},
     "output_type": "execute_result"
    }
   ],
   "source": [
    "life_change = life_region_2020 - life_region_1920\n",
    "life_change"
   ]
  },
  {
   "cell_type": "code",
   "execution_count": 43,
   "metadata": {},
   "outputs": [],
   "source": [
    "gdp_region_1920 = df_1920.groupby('region')['gdp_per_capita'].mean()\n",
    "gdp_region_2020 = df_2020.groupby('region')['gdp_per_capita'].mean()"
   ]
  },
  {
   "cell_type": "code",
   "execution_count": 44,
   "metadata": {},
   "outputs": [
    {
     "data": {
      "text/plain": [
       "region\n",
       "Africa       4628.061224\n",
       "Americas    12834.285714\n",
       "Asia        21573.256410\n",
       "Europe      32836.647059\n",
       "Oceania     10120.777778\n",
       "Name: gdp_per_capita, dtype: float64"
      ]
     },
     "execution_count": 44,
     "metadata": {},
     "output_type": "execute_result"
    }
   ],
   "source": [
    "gdp_change = gdp_region_2020 - gdp_region_1920\n",
    "gdp_change"
   ]
  },
  {
   "cell_type": "markdown",
   "metadata": {},
   "source": [
    "#### the next 3 plots will show the change in each of the indicators and the other 3 plots will reflect the average of each indicator changes"
   ]
  },
  {
   "cell_type": "code",
   "execution_count": 52,
   "metadata": {},
   "outputs": [
    {
     "data": {
      "image/png": "[encoded data removed]",
      "text/plain": [
       "<Figure size 720x576 with 1 Axes>"
      ]
     },
     "metadata": {
      "needs_background": "light"
     },
     "output_type": "display_data"
    }
   ],
   "source": [
    "# GDP change graph\n",
    "gdp_change.plot(figsize=(10,8))\n",
    "plt.xlabel('Region')\n",
    "plt.ylabel('GDP Changes')\n",
    "plt.title('GDP change from 1920 to 2020')\n",
    "plt.show()"
   ]
  },
  {
   "cell_type": "markdown",
   "metadata": {},
   "source": [
    "changes happen in the GDP from 1920 to 2020"
   ]
  },
  {
   "cell_type": "code",
   "execution_count": 51,
   "metadata": {},
   "outputs": [
    {
     "data": {
      "image/png": "[encoded data removed]",
      "text/plain": [
       "<Figure size 720x576 with 1 Axes>"
      ]
     },
     "metadata": {
      "needs_background": "light"
     },
     "output_type": "display_data"
    }
   ],
   "source": [
    "# life expectancy change graph\n",
    "life_change.plot(figsize=(10,8))\n",
    "plt.xlabel('Region')\n",
    "plt.ylabel('life Expectancy changes')\n",
    "plt.title('Life Expectancy change from 1920 to 2020')\n",
    "plt.show()"
   ]
  },
  {
   "cell_type": "markdown",
   "metadata": {},
   "source": [
    "Changes happen in life expectancy from 1920 to 2020"
   ]
  },
  {
   "cell_type": "code",
   "execution_count": 53,
   "metadata": {},
   "outputs": [
    {
     "data": {
      "image/png": "[encoded data removed]",
      "text/plain": [
       "<Figure size 720x576 with 1 Axes>"
      ]
     },
     "metadata": {
      "needs_background": "light"
     },
     "output_type": "display_data"
    }
   ],
   "source": [
    "# population change graph\n",
    "population_change.plot(figsize=(10,8))\n",
    "plt.xlabel('Region')\n",
    "plt.ylabel('population changes')\n",
    "plt.title('population change from 1920 to 2020')\n",
    "plt.show()"
   ]
  },
  {
   "cell_type": "markdown",
   "metadata": {},
   "source": [
    "Changes happen in population from 1920 to 2020"
   ]
  },
  {
   "cell_type": "markdown",
   "metadata": {},
   "source": [
    "#### in the next plots it will reflect the average of each indicator and how it changes throught the years for each region"
   ]
  },
  {
   "cell_type": "code",
   "execution_count": 55,
   "metadata": {},
   "outputs": [
    {
     "data": {
      "image/png": "[encoded data removed]",
      "text/plain": [
       "<Figure size 720x576 with 1 Axes>"
      ]
     },
     "metadata": {
      "needs_background": "light"
     },
     "output_type": "display_data"
    }
   ],
   "source": [
    "pop_region_1920.plot(figsize=(10, 8))\n",
    "pop_region_2020.plot(figsize=(10, 8))\n",
    "plt.xlabel('Region')\n",
    "plt.ylabel('population average')\n",
    "plt.title('population average from 1920 to 2020')\n",
    "plt.show()"
   ]
  },
  {
   "cell_type": "markdown",
   "metadata": {},
   "source": [
    "significant changes in population average happens in almost each region specially Asia"
   ]
  },
  {
   "cell_type": "code",
   "execution_count": 56,
   "metadata": {},
   "outputs": [
    {
     "data": {
      "image/png": "[encoded data removed]",
      "text/plain": [
       "<Figure size 720x576 with 1 Axes>"
      ]
     },
     "metadata": {
      "needs_background": "light"
     },
     "output_type": "display_data"
    }
   ],
   "source": [
    "gdp_region_1920.plot(figsize=(10, 8))\n",
    "gdp_region_2020.plot(figsize=(10, 8))\n",
    "plt.xlabel('Region')\n",
    "plt.ylabel('gdp average')\n",
    "plt.title('GDP average from 1920 to 2020')\n",
    "plt.show()"
   ]
  },
  {
   "cell_type": "markdown",
   "metadata": {},
   "source": [
    "significant changes in GDP average happens in almost each region specially Europe"
   ]
  },
  {
   "cell_type": "code",
   "execution_count": 57,
   "metadata": {},
   "outputs": [
    {
     "data": {
      "image/png": "[encoded data removed]",
      "text/plain": [
       "<Figure size 720x576 with 1 Axes>"
      ]
     },
     "metadata": {
      "needs_background": "light"
     },
     "output_type": "display_data"
    }
   ],
   "source": [
    "life_region_1920.plot(figsize=(10, 8))\n",
    "life_region_2020.plot(figsize=(10, 8))\n",
    "plt.xlabel('Region')\n",
    "plt.ylabel('life average')\n",
    "plt.title('life average from 1920 to 2020')\n",
    "plt.show()"
   ]
  },
  {
   "cell_type": "markdown",
   "metadata": {},
   "source": [
    "significant changes in life expectency average happens in almost each region specially Europe"
   ]
  },
  {
   "cell_type": "markdown",
   "metadata": {},
   "source": [
    "### Limitation\n",
    "\n",
    "* The whole dataset combined of many indicators like gdp and life expectancy so I had to decide which one to take in order to carry out this project.\n",
    "* Next I have problem with that data have a lot of years which makes the analysis hard and need to pick just few years to analyze\n",
    "* The data does not contain information about the region for each country so I had to get it from other sources.\n",
    "* we didnt add all indicators that impacting these factors so the results may vary if more indicators added to it"
   ]
  },
  {
   "cell_type": "markdown",
   "metadata": {},
   "source": [
    "<a id='conclusions'></a>\n",
    "## Conclusions"
   ]
  },
  {
   "cell_type": "markdown",
   "metadata": {
    "jupyter": {
     "outputs_hidden": true
    }
   },
   "source": [
    "The goal for project to analyze a dataset that got from gapminder which contains different indicators\n",
    "I choosed 3 main indicators which are gdp per capita, population and life expectency\n",
    "and I make some comparison between them and found some correlations between different indicators and how they impacting each others"
   ]
  }
 ],
 "metadata": {
  "kernelspec": {
   "display_name": "Python 3",
   "language": "python",
   "name": "python3"
  },
  "language_info": {
   "codemirror_mode": {
    "name": "ipython",
    "version": 3
   },
   "file_extension": ".py",
   "mimetype": "text/x-python",
   "name": "python",
   "nbconvert_exporter": "python",
   "pygments_lexer": "ipython3",
   "version": "3.8.5"
  }
 },
 "nbformat": 4,
 "nbformat_minor": 4
}
